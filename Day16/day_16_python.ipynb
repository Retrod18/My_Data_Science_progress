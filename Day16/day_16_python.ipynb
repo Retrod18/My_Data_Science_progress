{
  "cells": [
    {
      "cell_type": "code",
      "execution_count": null,
      "metadata": {
        "id": "J-BXq1yNgn1d"
      },
      "outputs": [],
      "source": [
        "# from typing_extensions import dataclass_transform\n",
        "# # Client: Problem? objective(BA)\n",
        "# # BA: data\n",
        "# # Connect: DA, DS: data\n",
        "# Scrum:Scrum master(PM)\n",
        "# cloud, mail, servers, JIRA-tool\n",
        "\n",
        "# Object: data\n",
        "# Report: EDA: data Analyst(ADHOC)\n",
        "# DS: (Data: )EDA(DS: EDA: DA: Data; Char)\n",
        "# Regression, Class"
      ]
    },
    {
      "cell_type": "code",
      "execution_count": null,
      "metadata": {
        "id": "TDRnak0QmUEk"
      },
      "outputs": [],
      "source": [
        "# X = TV, Newspaper, Radio, 30\n",
        "# y = sales\n",
        "\n",
        "# feature Engineering\n",
        "\n",
        "  # Missing Fill\n",
        "  # Textual data to Numerical value( textual to num): Dummy,\n",
        "  # Outliers: remove\n",
        "  # Unwanted Features Remove(domain)\n",
        "  # feature scaling: Machine learning : calculation Distance based\n",
        "\n",
        "# Preprocessing\n",
        "# x, y\n",
        "\n",
        "# 1200 - 200\n",
        "# 23456789 - 3456789\n",
        "# 12-2"
      ]
    },
    {
      "cell_type": "code",
      "execution_count": null,
      "metadata": {
        "id": "xZmI0q2WpI3M"
      },
      "outputs": [],
      "source": [
        "# Canada Per Capita Income capita predict"
      ]
    },
    {
      "cell_type": "code",
      "execution_count": null,
      "metadata": {
        "id": "U8vSv_Cypehm"
      },
      "outputs": [],
      "source": [
        "# Load Important Modules\n",
        "import pandas as pd\n",
        "import numpy as np\n",
        "import matplotlib.pyplot as plt\n",
        "import seaborn as sns\n",
        "import os\n",
        "import warnings\n",
        "from sklearn.linear_model import LinearRegression\n",
        "warnings.filterwarnings('ignore')\n",
        "print('Done')"
      ]
    },
    {
      "cell_type": "code",
      "execution_count": null,
      "metadata": {
        "id": "e07EtG0Qpzuk"
      },
      "outputs": [],
      "source": [
        "# Step 2: Load Data\n",
        "import kagglehub\n",
        "\n",
        "# Download latest version\n",
        "path = kagglehub.dataset_download(\"gurdit559/canada-per-capita-income-single-variable-data-set\")\n",
        "\n",
        "print(\"Path to dataset files:\", path)"
      ]
    },
    {
      "cell_type": "code",
      "execution_count": null,
      "metadata": {
        "id": "Ny5yO-OGqVbb"
      },
      "outputs": [],
      "source": [
        "#Step 3:  File Read\n",
        "file_path = path + '/' + os.listdir(path)[0]\n",
        "\n",
        "#Step 4:  Read data\n",
        "df = pd.read_csv(file_path)\n",
        "print('Done')"
      ]
    },
    {
      "cell_type": "code",
      "execution_count": null,
      "metadata": {
        "id": "Mdx2dtA4qcln"
      },
      "outputs": [],
      "source": [
        "#Step 5:  EDA: Part\n",
        "df.head()"
      ]
    },
    {
      "cell_type": "code",
      "execution_count": null,
      "metadata": {
        "id": "sobftM58q35t"
      },
      "outputs": [],
      "source": [
        "# Data info\n",
        "df.info()"
      ]
    },
    {
      "cell_type": "code",
      "execution_count": null,
      "metadata": {
        "id": "JSTSxdC0rX53"
      },
      "outputs": [],
      "source": [
        "df.shape"
      ]
    },
    {
      "cell_type": "code",
      "execution_count": null,
      "metadata": {
        "id": "lj04FR21rZed"
      },
      "outputs": [],
      "source": [
        "sns.heatmap(df.isna())\n",
        "plt.show()"
      ]
    },
    {
      "cell_type": "code",
      "execution_count": null,
      "metadata": {
        "id": "jJjhyeW6rdA9"
      },
      "outputs": [],
      "source": [
        "# sns.lineplot(data = df, x = 'year', y = 'per capita income (US$)')\n",
        "sns.scatterplot(data = df, x = 'year', y = 'per capita income (US$)')\n",
        "plt.show()"
      ]
    },
    {
      "cell_type": "code",
      "execution_count": null,
      "metadata": {
        "id": "UPOtHOWFrwXs"
      },
      "outputs": [],
      "source": [
        "df.corr()"
      ]
    },
    {
      "cell_type": "code",
      "execution_count": null,
      "metadata": {
        "id": "ud7mFWn1sCMR"
      },
      "outputs": [],
      "source": [
        "# EDA: detail"
      ]
    },
    {
      "cell_type": "code",
      "execution_count": null,
      "metadata": {
        "id": "IJ2fwwits3ny"
      },
      "outputs": [],
      "source": [
        "df.sample()"
      ]
    },
    {
      "cell_type": "code",
      "execution_count": null,
      "metadata": {
        "id": "Ov6WHakms9PL"
      },
      "outputs": [],
      "source": [
        "df.shape"
      ]
    },
    {
      "cell_type": "code",
      "execution_count": null,
      "metadata": {
        "id": "Ykw4QbMVtWRg"
      },
      "outputs": [],
      "source": [
        "# 47: : 40: training:\n",
        "# 7: testing\n",
        "\n",
        "# Split: Big rows: Avoid()\n",
        "\n"
      ]
    },
    {
      "cell_type": "code",
      "execution_count": null,
      "metadata": {
        "id": "dAkMgxRut5cb"
      },
      "outputs": [],
      "source": [
        "# X, y\n",
        "# X: Feature\n",
        "# y: Target"
      ]
    },
    {
      "cell_type": "code",
      "execution_count": null,
      "metadata": {
        "id": "jpTrS-RjuKfu"
      },
      "outputs": [],
      "source": [
        "df.sample()"
      ]
    },
    {
      "cell_type": "code",
      "execution_count": null,
      "metadata": {
        "id": "AmAUfNbluolR"
      },
      "outputs": [],
      "source": [
        "X = df[['year']]   # 2d: df\n",
        "y = df['per capita income (US$)']  # Series:\n",
        "\n",
        "print('Done')"
      ]
    },
    {
      "cell_type": "code",
      "execution_count": null,
      "metadata": {
        "id": "4l7KSUuyu3M_"
      },
      "outputs": [],
      "source": [
        "# df[['year']]"
      ]
    },
    {
      "cell_type": "code",
      "execution_count": null,
      "metadata": {
        "id": "Amwn435yvAIE"
      },
      "outputs": [],
      "source": [
        "model = LinearRegression()\n",
        "\n",
        "#training Step\n",
        "model.fit(X,y)  # Hyper Parameters: Model Fine Tune\n",
        "# Hyper Tune:\n",
        "# (data: predict: next future data: false: wrong Prediction)\n"
      ]
    },
    {
      "cell_type": "code",
      "execution_count": null,
      "metadata": {
        "id": "TWGQ5_qivYeu"
      },
      "outputs": [],
      "source": [
        "X.max()"
      ]
    },
    {
      "cell_type": "code",
      "execution_count": null,
      "metadata": {
        "id": "faUAfITEw75v"
      },
      "outputs": [],
      "source": [
        "year = [[2018]]\n",
        "\n",
        "capita = round(model.predict(year)[0],2)\n",
        "\n",
        "print(f'''per Capita $\n",
        "{year[0][0]}: {capita}''')"
      ]
    },
    {
      "cell_type": "code",
      "execution_count": null,
      "metadata": {
        "id": "rBs--Q0hxIEb"
      },
      "outputs": [],
      "source": [
        "y_pred = model.predict(X)\n",
        "print('Done')"
      ]
    },
    {
      "cell_type": "code",
      "execution_count": null,
      "metadata": {
        "id": "hPeiOIJSyQWz"
      },
      "outputs": [],
      "source": [
        "df.sample()"
      ]
    },
    {
      "cell_type": "code",
      "execution_count": null,
      "metadata": {
        "id": "HrOBZmaGy-Zq"
      },
      "outputs": [],
      "source": [
        "df['Predicted Capita'] = y_pred"
      ]
    },
    {
      "cell_type": "code",
      "execution_count": null,
      "metadata": {
        "id": "J4cmJoT-zGpT"
      },
      "outputs": [],
      "source": [
        "df.head(10)"
      ]
    },
    {
      "cell_type": "code",
      "execution_count": null,
      "metadata": {
        "id": "dtW91Wm_zH_I"
      },
      "outputs": [],
      "source": [
        "mae = ((df['per capita income (US$)'] - df['Predicted Capita']).abs()).mean()"
      ]
    },
    {
      "cell_type": "code",
      "execution_count": null,
      "metadata": {
        "id": "fryAfsSM0wM7"
      },
      "outputs": [],
      "source": [
        "# MAE\n",
        "from sklearn.metrics import mean_absolute_error"
      ]
    },
    {
      "cell_type": "code",
      "execution_count": null,
      "metadata": {
        "id": "vjpRw3cL2cZT"
      },
      "outputs": [],
      "source": [
        "#Step:  Evalute()\n",
        "\n",
        "# mean_absolute_error(y_actual, y_pred)\n",
        "# y_actual = y\n",
        "# y_pred = y_pred\n",
        "\n",
        "\n",
        "MAE = mean_absolute_error(y, y_pred)"
      ]
    },
    {
      "cell_type": "code",
      "execution_count": null,
      "metadata": {
        "id": "Syf1OeiG2zeo"
      },
      "outputs": [],
      "source": [
        "print('Mannual mae:',mae)\n",
        "print('Actual mae:',MAE)"
      ]
    },
    {
      "cell_type": "code",
      "execution_count": null,
      "metadata": {
        "id": "Q8IWLmHb3B81"
      },
      "outputs": [],
      "source": [
        "mse = ((df['per capita income (US$)'] - df['Predicted Capita'])**2).mean()\n",
        "mse"
      ]
    },
    {
      "cell_type": "code",
      "execution_count": null,
      "metadata": {
        "id": "ZxiDWmpp3k1I"
      },
      "outputs": [],
      "source": [
        "from sklearn.metrics import mean_squared_error"
      ]
    },
    {
      "cell_type": "code",
      "execution_count": null,
      "metadata": {
        "id": "N1au1b1S3-cO"
      },
      "outputs": [],
      "source": [
        "MSE = mean_squared_error(y,y_pred)\n",
        "print(MSE)"
      ]
    },
    {
      "cell_type": "code",
      "execution_count": null,
      "metadata": {
        "id": "yBF0eWVS4Hh8"
      },
      "outputs": [],
      "source": [
        "print('Mannual mse:',mse)\n",
        "print('Actual MSE:',MSE)"
      ]
    },
    {
      "cell_type": "code",
      "execution_count": null,
      "metadata": {
        "id": "KgM-Ca474MRD"
      },
      "outputs": [],
      "source": [
        "from sklearn.metrics import root_mean_squared_error"
      ]
    },
    {
      "cell_type": "code",
      "execution_count": null,
      "metadata": {
        "id": "_8FCH7944b05"
      },
      "outputs": [],
      "source": [
        "rmse = mse**.5\n",
        "RMSE = root_mean_squared_error(y,y_pred)"
      ]
    },
    {
      "cell_type": "code",
      "execution_count": null,
      "metadata": {
        "id": "DcxNhUWX4kne"
      },
      "outputs": [],
      "source": [
        "print('Mannual mse:',rmse)\n",
        "print('Actual MSE:',RMSE)"
      ]
    },
    {
      "cell_type": "code",
      "execution_count": null,
      "metadata": {
        "id": "7BCUo7cM4qLz"
      },
      "outputs": [],
      "source": [
        "# Model Score:"
      ]
    },
    {
      "cell_type": "code",
      "execution_count": null,
      "metadata": {
        "id": "Kk7f-h9b5PEG"
      },
      "outputs": [],
      "source": [
        "model_score = model.score(X,y)\n",
        "print('Model Score is: ',model_score)"
      ]
    },
    {
      "cell_type": "code",
      "execution_count": null,
      "metadata": {
        "id": "LSg4cmiA5VWr"
      },
      "outputs": [],
      "source": [
        "plt.plot(X,y_pred, color = 'red',label = 'Predicted Line',marker = 'o')\n",
        "sns.scatterplot(data = df, x = 'year', y = 'per capita income (US$)',marker = 'x',label = 'actual Data')\n",
        "plt.legend()\n",
        "plt.show()"
      ]
    },
    {
      "cell_type": "code",
      "execution_count": null,
      "metadata": {
        "id": "4YI0RkN26ztn"
      },
      "outputs": [],
      "source": [
        "sns.residplot(data = df, x = X, y = y,color = 'r')\n",
        "plt.show()"
      ]
    },
    {
      "cell_type": "code",
      "execution_count": null,
      "metadata": {
        "id": "UYgGVbAN81ES"
      },
      "outputs": [],
      "source": [
        "# Last Step: Save"
      ]
    },
    {
      "cell_type": "code",
      "execution_count": null,
      "metadata": {
        "id": "AvCH7vun_m3p"
      },
      "outputs": [],
      "source": [
        "# Model Brain: Ready"
      ]
    },
    {
      "cell_type": "code",
      "execution_count": null,
      "metadata": {
        "id": "2xvpZSQI_rLE"
      },
      "outputs": [],
      "source": [
        "import pickle\n",
        "# Save: File\n",
        "# load, dump: (model)\n",
        "\n",
        "\n",
        "with open('capita_pred.pkl','wb') as f:\n",
        "  pickle.dump(model,f)\n",
        "\n",
        "print('Done')"
      ]
    },
    {
      "cell_type": "code",
      "execution_count": null,
      "metadata": {
        "id": "AxpbjcKXAVvH"
      },
      "outputs": [],
      "source": [
        "import pickle\n",
        "import warnings\n",
        "warnings.filterwarnings('ignore')\n",
        "with open('capita_pred.pkl','rb') as f:\n",
        "    chatgpt = pickle.load(f)\n",
        "print('Done')"
      ]
    },
    {
      "cell_type": "code",
      "execution_count": null,
      "metadata": {
        "id": "3Fp4Deh_LpIp"
      },
      "outputs": [],
      "source": [
        "year = float(input('Enter year to predict capita: '))\n",
        "\n",
        "final_year = [[year]]\n",
        "\n",
        "capita = round(chatgpt.predict(final_year)[0],2)\n",
        "\n",
        "print(f'''\n",
        "Year: {int(year)}\n",
        "Capita in USD($): {capita}''')"
      ]
    },
    {
      "cell_type": "code",
      "execution_count": null,
      "metadata": {
        "id": "j8leXyd4LsSm"
      },
      "outputs": [],
      "source": []
    }
  ],
  "metadata": {
    "colab": {
      "private_outputs": true,
      "provenance": []
    },
    "kernelspec": {
      "display_name": "Python 3",
      "name": "python3"
    },
    "language_info": {
      "name": "python"
    }
  },
  "nbformat": 4,
  "nbformat_minor": 0
}
